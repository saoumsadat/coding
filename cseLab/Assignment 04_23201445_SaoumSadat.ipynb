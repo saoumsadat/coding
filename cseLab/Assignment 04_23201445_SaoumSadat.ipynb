{
  "nbformat": 4,
  "nbformat_minor": 0,
  "metadata": {
    "colab": {
      "provenance": []
    },
    "kernelspec": {
      "name": "python3",
      "display_name": "Python 3"
    },
    "language_info": {
      "name": "python"
    }
  },
  "cells": [
    {
      "cell_type": "code",
      "execution_count": null,
      "metadata": {
        "id": "UWucRjDCNj8G"
      },
      "outputs": [],
      "source": [
        "# Home Task 1\n",
        "s = input()\n",
        "flag = \"\"\n",
        "new_s = \"\"\n",
        "\n",
        "for i in s:\n",
        "    if flag != i:\n",
        "        new_s += i\n",
        "        flag = i\n",
        "print(new_s)"
      ]
    },
    {
      "cell_type": "code",
      "source": [
        "# Home Task 2\n",
        "s = input()\n",
        "sec_start = 0\n",
        "comma_index = 0\n",
        "for i in range(0, len(s)):\n",
        "    if s[i] == \",\":\n",
        "        comma_index = i\n",
        "        sec_start = i + 2\n",
        "\n",
        "part1 = s[0:comma_index]\n",
        "part2 = s[sec_start:]\n",
        "\n",
        "# print(part1, part2)\n",
        "new_s = \"\"\n",
        "\n",
        "i = 0\n",
        "while (i < len(part1) and i < len(part2)):\n",
        "    new_s += part1[i] + part2[i]\n",
        "    i += 1\n",
        "\n",
        "if (i < len(part1)):\n",
        "    new_s += part1[i:]\n",
        "else:\n",
        "    new_s += part2[i:]\n",
        "\n",
        "print(new_s)"
      ],
      "metadata": {
        "id": "W6WdHGlA9dqR"
      },
      "execution_count": null,
      "outputs": []
    },
    {
      "cell_type": "code",
      "source": [
        "# Home Task 3\n",
        "s = input()\n",
        "new_s = \"\"\n",
        "for i in s:\n",
        "    if i == 'z':\n",
        "        new_s += 'a'\n",
        "    else:\n",
        "        new_s += chr(ord(i) + 1)\n",
        "\n",
        "print(new_s)"
      ],
      "metadata": {
        "id": "0-BvX_R29jTC"
      },
      "execution_count": null,
      "outputs": []
    },
    {
      "cell_type": "code",
      "source": [
        "# Home Task 4\n",
        "s = input()\n",
        "new_s = ''\n",
        "flag = 1\n",
        "for x in s:\n",
        "    if flag:\n",
        "        if x >= 'a' and x <= 'z':\n",
        "            new_s += chr(ord(x) - (ord('a') - ord('A')))\n",
        "            flag = 0\n",
        "        elif x >= 'A' and x <= 'Z':\n",
        "            new_s += x\n",
        "            flag = 0\n",
        "        else:\n",
        "            new_s += x\n",
        "    else:\n",
        "        if x >= 'A' and x <= 'Z':\n",
        "            new_s += chr(ord(x) + (ord('a') - ord('A')))\n",
        "            flag = 1\n",
        "        elif x >= 'a' and x <= 'z':\n",
        "            new_s += x\n",
        "            flag = 1\n",
        "        else:\n",
        "            new_s += x\n",
        "\n",
        "print(new_s)"
      ],
      "metadata": {
        "id": "oSlZCoiZ9mt3"
      },
      "execution_count": null,
      "outputs": []
    }
  ]
}